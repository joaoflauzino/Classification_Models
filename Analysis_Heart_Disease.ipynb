{
 "cells": [
  {
   "cell_type": "code",
   "execution_count": 83,
   "metadata": {},
   "outputs": [],
   "source": [
    "import pandas as pd\n",
    "import numpy as np\n",
    "from sklearn.ensemble import RandomForestClassifier\n",
    "from sklearn.linear_model import LogisticRegression\n",
    "from sklearn.tree import DecisionTreeClassifier\n",
    "from sklearn import tree\n",
    "from sklearn.model_selection import train_test_split\n",
    "from sklearn.model_selection import RepeatedKFold\n",
    "import matplotlib.pyplot as plt\n",
    "from sklearn.metrics import confusion_matrix\n",
    "from sklearn.metrics import accuracy_score \n",
    "from sklearn.metrics import classification_report \n",
    "from sklearn.metrics import roc_auc_score\n",
    "from imblearn.over_sampling import SMOTE\n",
    "from sklearn.metrics import f1_score\n",
    "import xgboost as xgb\n",
    "from xgboost import plot_importance"
   ]
  },
  {
   "cell_type": "code",
   "execution_count": 84,
   "metadata": {},
   "outputs": [],
   "source": [
    "# Read dataset\n",
    "df = pd.read_csv('heart-disease-uci//heart.csv', sep = ',')"
   ]
  },
  {
   "cell_type": "code",
   "execution_count": 85,
   "metadata": {},
   "outputs": [
    {
     "data": {
      "text/html": [
       "<div>\n",
       "<style scoped>\n",
       "    .dataframe tbody tr th:only-of-type {\n",
       "        vertical-align: middle;\n",
       "    }\n",
       "\n",
       "    .dataframe tbody tr th {\n",
       "        vertical-align: top;\n",
       "    }\n",
       "\n",
       "    .dataframe thead th {\n",
       "        text-align: right;\n",
       "    }\n",
       "</style>\n",
       "<table border=\"1\" class=\"dataframe\">\n",
       "  <thead>\n",
       "    <tr style=\"text-align: right;\">\n",
       "      <th></th>\n",
       "      <th>age</th>\n",
       "      <th>sex</th>\n",
       "      <th>cp</th>\n",
       "      <th>trestbps</th>\n",
       "      <th>chol</th>\n",
       "      <th>fbs</th>\n",
       "      <th>restecg</th>\n",
       "      <th>thalach</th>\n",
       "      <th>exang</th>\n",
       "      <th>oldpeak</th>\n",
       "      <th>slope</th>\n",
       "      <th>ca</th>\n",
       "      <th>thal</th>\n",
       "      <th>target</th>\n",
       "    </tr>\n",
       "  </thead>\n",
       "  <tbody>\n",
       "    <tr>\n",
       "      <th>0</th>\n",
       "      <td>63</td>\n",
       "      <td>1</td>\n",
       "      <td>3</td>\n",
       "      <td>145</td>\n",
       "      <td>233</td>\n",
       "      <td>1</td>\n",
       "      <td>0</td>\n",
       "      <td>150</td>\n",
       "      <td>0</td>\n",
       "      <td>2.3</td>\n",
       "      <td>0</td>\n",
       "      <td>0</td>\n",
       "      <td>1</td>\n",
       "      <td>1</td>\n",
       "    </tr>\n",
       "    <tr>\n",
       "      <th>1</th>\n",
       "      <td>37</td>\n",
       "      <td>1</td>\n",
       "      <td>2</td>\n",
       "      <td>130</td>\n",
       "      <td>250</td>\n",
       "      <td>0</td>\n",
       "      <td>1</td>\n",
       "      <td>187</td>\n",
       "      <td>0</td>\n",
       "      <td>3.5</td>\n",
       "      <td>0</td>\n",
       "      <td>0</td>\n",
       "      <td>2</td>\n",
       "      <td>1</td>\n",
       "    </tr>\n",
       "    <tr>\n",
       "      <th>2</th>\n",
       "      <td>41</td>\n",
       "      <td>0</td>\n",
       "      <td>1</td>\n",
       "      <td>130</td>\n",
       "      <td>204</td>\n",
       "      <td>0</td>\n",
       "      <td>0</td>\n",
       "      <td>172</td>\n",
       "      <td>0</td>\n",
       "      <td>1.4</td>\n",
       "      <td>2</td>\n",
       "      <td>0</td>\n",
       "      <td>2</td>\n",
       "      <td>1</td>\n",
       "    </tr>\n",
       "    <tr>\n",
       "      <th>3</th>\n",
       "      <td>56</td>\n",
       "      <td>1</td>\n",
       "      <td>1</td>\n",
       "      <td>120</td>\n",
       "      <td>236</td>\n",
       "      <td>0</td>\n",
       "      <td>1</td>\n",
       "      <td>178</td>\n",
       "      <td>0</td>\n",
       "      <td>0.8</td>\n",
       "      <td>2</td>\n",
       "      <td>0</td>\n",
       "      <td>2</td>\n",
       "      <td>1</td>\n",
       "    </tr>\n",
       "    <tr>\n",
       "      <th>4</th>\n",
       "      <td>57</td>\n",
       "      <td>0</td>\n",
       "      <td>0</td>\n",
       "      <td>120</td>\n",
       "      <td>354</td>\n",
       "      <td>0</td>\n",
       "      <td>1</td>\n",
       "      <td>163</td>\n",
       "      <td>1</td>\n",
       "      <td>0.6</td>\n",
       "      <td>2</td>\n",
       "      <td>0</td>\n",
       "      <td>2</td>\n",
       "      <td>1</td>\n",
       "    </tr>\n",
       "  </tbody>\n",
       "</table>\n",
       "</div>"
      ],
      "text/plain": [
       "   age  sex  cp  trestbps  chol  fbs  restecg  thalach  exang  oldpeak  slope  \\\n",
       "0   63    1   3       145   233    1        0      150      0      2.3      0   \n",
       "1   37    1   2       130   250    0        1      187      0      3.5      0   \n",
       "2   41    0   1       130   204    0        0      172      0      1.4      2   \n",
       "3   56    1   1       120   236    0        1      178      0      0.8      2   \n",
       "4   57    0   0       120   354    0        1      163      1      0.6      2   \n",
       "\n",
       "   ca  thal  target  \n",
       "0   0     1       1  \n",
       "1   0     2       1  \n",
       "2   0     2       1  \n",
       "3   0     2       1  \n",
       "4   0     2       1  "
      ]
     },
     "execution_count": 85,
     "metadata": {},
     "output_type": "execute_result"
    }
   ],
   "source": [
    "# Head\n",
    "df.head()"
   ]
  },
  {
   "cell_type": "code",
   "execution_count": 86,
   "metadata": {},
   "outputs": [
    {
     "data": {
      "text/plain": [
       "array([[<matplotlib.axes._subplots.AxesSubplot object at 0x00000211703133C8>,\n",
       "        <matplotlib.axes._subplots.AxesSubplot object at 0x00000211704C5400>,\n",
       "        <matplotlib.axes._subplots.AxesSubplot object at 0x00000211704F6828>,\n",
       "        <matplotlib.axes._subplots.AxesSubplot object at 0x0000021170527DD8>],\n",
       "       [<matplotlib.axes._subplots.AxesSubplot object at 0x00000211705643C8>,\n",
       "        <matplotlib.axes._subplots.AxesSubplot object at 0x0000021170594978>,\n",
       "        <matplotlib.axes._subplots.AxesSubplot object at 0x00000211705CBF28>,\n",
       "        <matplotlib.axes._subplots.AxesSubplot object at 0x0000021170605550>],\n",
       "       [<matplotlib.axes._subplots.AxesSubplot object at 0x0000021170605588>,\n",
       "        <matplotlib.axes._subplots.AxesSubplot object at 0x00000211706770B8>,\n",
       "        <matplotlib.axes._subplots.AxesSubplot object at 0x00000211706A4668>,\n",
       "        <matplotlib.axes._subplots.AxesSubplot object at 0x00000211706D6C18>],\n",
       "       [<matplotlib.axes._subplots.AxesSubplot object at 0x0000021170714208>,\n",
       "        <matplotlib.axes._subplots.AxesSubplot object at 0x00000211707437B8>,\n",
       "        <matplotlib.axes._subplots.AxesSubplot object at 0x0000021170776D68>,\n",
       "        <matplotlib.axes._subplots.AxesSubplot object at 0x00000211707B5358>]],\n",
       "      dtype=object)"
      ]
     },
     "execution_count": 86,
     "metadata": {},
     "output_type": "execute_result"
    },
    {
     "data": {
      "image/png": "[encoded data removed]",
      "text/plain": [
       "<Figure size 720x720 with 16 Axes>"
      ]
     },
     "metadata": {
      "needs_background": "light"
     },
     "output_type": "display_data"
    }
   ],
   "source": [
    "# Variables behaviour\n",
    "df.hist(figsize=(10,10))"
   ]
  },
  {
   "cell_type": "code",
   "execution_count": 87,
   "metadata": {},
   "outputs": [
    {
     "data": {
      "text/plain": [
       "1    165\n",
       "0    138\n",
       "Name: target, dtype: int64"
      ]
     },
     "execution_count": 87,
     "metadata": {},
     "output_type": "execute_result"
    }
   ],
   "source": [
    "# Check balanced data\n",
    "df['target'].value_counts()"
   ]
  },
  {
   "cell_type": "code",
   "execution_count": 88,
   "metadata": {},
   "outputs": [],
   "source": [
    "# Get dependent and independent variables\n",
    "y = df['target']\n",
    "X = df.loc[:, df.columns != 'target']"
   ]
  },
  {
   "cell_type": "code",
   "execution_count": 89,
   "metadata": {},
   "outputs": [],
   "source": [
    "# Train and valid\n",
    "X_treino, X_valid, y_treino, y_valid = train_test_split(X, y, test_size=0.3)"
   ]
  },
  {
   "cell_type": "code",
   "execution_count": 90,
   "metadata": {},
   "outputs": [],
   "source": [
    "# Using repeat k fold for better splits\n",
    "xb_acc = []\n",
    "xb_auc = []\n",
    "xb_f1 = []\n",
    "log_acc = []\n",
    "log_auc = []\n",
    "log_f1 = []\n",
    "dec_acc = []\n",
    "dec_auc = []\n",
    "dec_f1 = []\n",
    "kf = RepeatedKFold(n_splits=2, n_repeats=30, random_state=10)\n",
    "\n",
    "for linhas_treino, linhas_valid in kf.split(X):\n",
    "\n",
    "    X_treino, X_valid = X.iloc[linhas_treino], X.iloc[linhas_valid]\n",
    "    y_treino, y_valid = y.iloc[linhas_treino], y.iloc[linhas_valid]\n",
    "    \n",
    "    model=xgb.XGBClassifier(objective ='binary:logistic', colsample_bytree = 0.3, learning_rate = 0.2,max_depth = 5, alpha = 10, n_estimators = 200)\n",
    "    log = LogisticRegression(max_iter = 10000)\n",
    "    dec = DecisionTreeClassifier()\n",
    "    \n",
    "    model.fit(X_treino, y_treino)\n",
    "    p_xg = model.predict(X_valid)\n",
    "    acc = np.mean(y_valid == p_xg)\n",
    "    xb_acc.append(acc)\n",
    "    xb_auc.append(roc_auc_score(y_valid, p_xg))\n",
    "    xb_f1.append(f1_score(y_valid, p_xg))\n",
    "    \n",
    "    log.fit(X_treino, y_treino)\n",
    "    p_log = log.predict(X_valid)\n",
    "    acc = np.mean(y_valid == p_log)\n",
    "    log_acc.append(acc)\n",
    "    log_auc.append(roc_auc_score(y_valid, p_log))\n",
    "    log_f1.append(f1_score(y_valid, p_log))\n",
    "    \n",
    "    dec.fit(X_treino, y_treino)\n",
    "    p_dec = dec.predict(X_valid)\n",
    "    acc = np.mean(y_valid == p_dec)\n",
    "    dec_acc.append(acc)\n",
    "    dec_auc.append(roc_auc_score(y_valid, p_dec))\n",
    "    dec_f1.append(f1_score(y_valid, p_dec))"
   ]
  },
  {
   "cell_type": "code",
   "execution_count": 107,
   "metadata": {},
   "outputs": [
    {
     "data": {
      "text/plain": [
       "array([[<matplotlib.axes._subplots.AxesSubplot object at 0x0000021172B5F3C8>,\n",
       "        <matplotlib.axes._subplots.AxesSubplot object at 0x0000021172B8A898>],\n",
       "       [<matplotlib.axes._subplots.AxesSubplot object at 0x0000021172BB8DD8>,\n",
       "        <matplotlib.axes._subplots.AxesSubplot object at 0x0000021172BF73C8>]],\n",
       "      dtype=object)"
      ]
     },
     "execution_count": 107,
     "metadata": {},
     "output_type": "execute_result"
    },
    {
     "data": {
      "image/png": "[encoded data removed]",
      "text/plain": [
       "<Figure size 432x288 with 4 Axes>"
      ]
     },
     "metadata": {
      "needs_background": "light"
     },
     "output_type": "display_data"
    }
   ],
   "source": [
    "# Accuracy\n",
    "acc = {\"XBoost\": xb_acc, \"Logistic\": log_acc, \"Decision Tree\": dec_acc }\n",
    "acc = pd.DataFrame(acc, columns = ['XBoost', 'Logistic', 'Decision Tree'])\n",
    "acc.hist()"
   ]
  },
  {
   "cell_type": "code",
   "execution_count": 108,
   "metadata": {},
   "outputs": [
    {
     "data": {
      "text/plain": [
       "array([[<matplotlib.axes._subplots.AxesSubplot object at 0x0000021172CDE828>,\n",
       "        <matplotlib.axes._subplots.AxesSubplot object at 0x0000021172CFAF98>],\n",
       "       [<matplotlib.axes._subplots.AxesSubplot object at 0x0000021172D31550>,\n",
       "        <matplotlib.axes._subplots.AxesSubplot object at 0x0000021172D61A90>]],\n",
       "      dtype=object)"
      ]
     },
     "execution_count": 108,
     "metadata": {},
     "output_type": "execute_result"
    },
    {
     "data": {
      "image/png": "[encoded data removed]",
      "text/plain": [
       "<Figure size 432x288 with 4 Axes>"
      ]
     },
     "metadata": {
      "needs_background": "light"
     },
     "output_type": "display_data"
    }
   ],
   "source": [
    "# Auc\n",
    "auc = {\"XBoost\": xb_auc, \"Logistic\": log_auc, \"Decision Tree\": dec_auc }\n",
    "auc = pd.DataFrame(auc, columns = ['XBoost', 'Logistic', 'Decision Tree'])\n",
    "auc.hist()"
   ]
  },
  {
   "cell_type": "code",
   "execution_count": 109,
   "metadata": {},
   "outputs": [
    {
     "data": {
      "text/plain": [
       "array([[<matplotlib.axes._subplots.AxesSubplot object at 0x0000021172E49C18>,\n",
       "        <matplotlib.axes._subplots.AxesSubplot object at 0x0000021172E6A5C0>],\n",
       "       [<matplotlib.axes._subplots.AxesSubplot object at 0x0000021172E98B70>,\n",
       "        <matplotlib.axes._subplots.AxesSubplot object at 0x0000021172ED7160>]],\n",
       "      dtype=object)"
      ]
     },
     "execution_count": 109,
     "metadata": {},
     "output_type": "execute_result"
    },
    {
     "data": {
      "image/png": "[encoded data removed]",
      "text/plain": [
       "<Figure size 432x288 with 4 Axes>"
      ]
     },
     "metadata": {
      "needs_background": "light"
     },
     "output_type": "display_data"
    }
   ],
   "source": [
    "# F1 Score\n",
    "f1 = {\"XBoost\": xb_f1, \"Logistic\": log_f1, \"Decision Tree\": dec_f1 }\n",
    "f1 = pd.DataFrame(f1, columns = ['XBoost', 'Logistic', 'Decision Tree'])\n",
    "f1.hist()"
   ]
  },
  {
   "cell_type": "code",
   "execution_count": 110,
   "metadata": {},
   "outputs": [
    {
     "data": {
      "text/plain": [
       "<matplotlib.axes._subplots.AxesSubplot at 0x21172fb4e10>"
      ]
     },
     "execution_count": 110,
     "metadata": {},
     "output_type": "execute_result"
    },
    {
     "data": {
      "image/png": "[encoded data removed]",
      "text/plain": [
       "<Figure size 432x288 with 1 Axes>"
      ]
     },
     "metadata": {
      "needs_background": "light"
     },
     "output_type": "display_data"
    }
   ],
   "source": [
    "# Variables most important for the model\n",
    "plot_importance(model)"
   ]
  }
 ],
 "metadata": {
  "kernelspec": {
   "display_name": "Python 3",
   "language": "python",
   "name": "python3"
  },
  "language_info": {
   "codemirror_mode": {
    "name": "ipython",
    "version": 3
   },
   "file_extension": ".py",
   "mimetype": "text/x-python",
   "name": "python",
   "nbconvert_exporter": "python",
   "pygments_lexer": "ipython3",
   "version": "3.7.3"
  }
 },
 "nbformat": 4,
 "nbformat_minor": 4
}
